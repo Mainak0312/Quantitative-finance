{
 "cells": [
  {
   "cell_type": "code",
   "execution_count": 1,
   "id": "df8ea5cb",
   "metadata": {},
   "outputs": [],
   "source": [
    "import numpy as np"
   ]
  },
  {
   "cell_type": "code",
   "execution_count": 2,
   "id": "b766b585",
   "metadata": {},
   "outputs": [],
   "source": [
    "# lets create a class for option pricing\n",
    "class OptionPricing:\n",
    "    def __init__(self, S0, E, T, rf, sigma, iterations):    \n",
    "    \n",
    "    # S0 = initial value of the stock(t=0)\n",
    "    # E = strike price\n",
    "    # T = time to maturity\n",
    "    # rf = risk free rate\n",
    "    # sigma = volatility/s.d.\n",
    "    # iterations = no of realizations for monte carlo: \n",
    "    # more iteration more accurate the result will be\n",
    "        \n",
    "        self.S0 = S0\n",
    "        self.E = E\n",
    "        self.T = T\n",
    "        self.rf = rf\n",
    "        self.sigma = sigma\n",
    "        self.iterations = iterations\n",
    "    \n",
    "    def call_option_simulation(self):\n",
    "        # we have 2 columns: first with 0s and the second column will store the payoff\n",
    "        # we need the first column of 0s since the payoff function is max(0,S-E) for call option\n",
    "        option_data = np.zeros([self.iterations, 2])\n",
    "        \n",
    "        # 1 dimensional array with as many items as the iterartions\n",
    "        rand = np.random.normal(0,1,(1, self.iterations))\n",
    "        \n",
    "        #equation for stock price at T\n",
    "        stock_price = self.S0 * np.exp((self.rf - 0.5*self.sigma**2) * self.T\n",
    "                                      + self.sigma * np.sqrt(self.T) * rand)\n",
    "        \n",
    "        # we need S-E because we have to calculate the max(0,S-E)\n",
    "        option_data[:,1] = stock_price - self.E\n",
    "        \n",
    "        # avg for monte carlo simulation\n",
    "        # amax() returns the max(0,S-E) \n",
    "        # This is the average value\n",
    "        average = np.sum(np.amax(option_data, axis = 1))/float(self.iterations)\n",
    "        \n",
    "        # we have to use exp(-rT), the discount factor since this value is the price in the future\n",
    "        # we have the present value for the future cash flow\n",
    "        \n",
    "        return np.exp(-1.0 * self.rf * self.T) * average\n",
    "    \n",
    "    def put_option_simulation(self):\n",
    "        # we have 2 columns: first with 0s and the second column will store the payoff\n",
    "        # we need the first column of 0s since the payoff function is max(0,S-E) for call option\n",
    "        option_data = np.zeros([self.iterations, 2])\n",
    "        \n",
    "        # 1 dimensional array with as many items as the iterartions\n",
    "        rand = np.random.normal(0,1,(1, self.iterations))\n",
    "        \n",
    "        #equation for stock price at T\n",
    "        stock_price = self.S0 * np.exp((self.rf - 0.5*self.sigma**2) * self.T\n",
    "                                      + self.sigma * np.sqrt(self.T) * rand)\n",
    "        \n",
    "        # we need S-E because we have to calculate the max(0,S-E)\n",
    "        option_data[:,1] = self.E - stock_price\n",
    "        \n",
    "        # avg for monte carlo simulation\n",
    "        # amax() returns the max(0,S-E) \n",
    "        # This is the average value\n",
    "        average = np.sum(np.amax(option_data, axis = 1))/float(self.iterations)\n",
    "        \n",
    "        # we have to use exp(-rT), the discount factor since this value is the price in the future\n",
    "        # we have the present value for the future cash flow\n",
    "        \n",
    "        return np.exp(-1.0 * self.rf * self.T) * average\n",
    "    "
   ]
  },
  {
   "cell_type": "code",
   "execution_count": 3,
   "id": "0d1b02e7",
   "metadata": {},
   "outputs": [],
   "source": [
    "model = OptionPricing(100, 100, 1, 0.05, 0.2, 10000000)"
   ]
  },
  {
   "cell_type": "code",
   "execution_count": 4,
   "id": "e729e450",
   "metadata": {},
   "outputs": [
    {
     "name": "stdout",
     "output_type": "stream",
     "text": [
      "Value of call option at expiry is $ 10.45\n"
     ]
    }
   ],
   "source": [
    "print(\"Value of call option at expiry is $ %.2f\" % (model.call_option_simulation()))"
   ]
  },
  {
   "cell_type": "code",
   "execution_count": 5,
   "id": "787467b7",
   "metadata": {},
   "outputs": [
    {
     "name": "stdout",
     "output_type": "stream",
     "text": [
      "Value of put option at expiry is $ 5.58\n"
     ]
    }
   ],
   "source": [
    "print(\"Value of put option at expiry is $ %.2f\" % (model.put_option_simulation()))"
   ]
  },
  {
   "cell_type": "code",
   "execution_count": null,
   "id": "c62d984a",
   "metadata": {},
   "outputs": [],
   "source": []
  }
 ],
 "metadata": {
  "kernelspec": {
   "display_name": "Python 3 (ipykernel)",
   "language": "python",
   "name": "python3"
  },
  "language_info": {
   "codemirror_mode": {
    "name": "ipython",
    "version": 3
   },
   "file_extension": ".py",
   "mimetype": "text/x-python",
   "name": "python",
   "nbconvert_exporter": "python",
   "pygments_lexer": "ipython3",
   "version": "3.9.7"
  }
 },
 "nbformat": 4,
 "nbformat_minor": 5
}
