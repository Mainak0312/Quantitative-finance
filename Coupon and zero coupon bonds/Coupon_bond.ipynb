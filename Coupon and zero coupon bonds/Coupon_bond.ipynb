{
 "cells": [
  {
   "cell_type": "code",
   "execution_count": 1,
   "id": "4ec7b0b7",
   "metadata": {},
   "outputs": [],
   "source": [
    "from math import exp"
   ]
  },
  {
   "cell_type": "code",
   "execution_count": 2,
   "id": "0b664b2b",
   "metadata": {},
   "outputs": [],
   "source": [
    "class coupon_bond:\n",
    "    \n",
    "    def __init__(self, principal, coupon_rate, market_rate, maturity):\n",
    "        self.principal = principal\n",
    "        self.coupon_rate = coupon_rate/100.0\n",
    "        self.market_rate = market_rate/100.0\n",
    "        self.maturity = maturity\n",
    "    \n",
    "    def price_discrete(self):\n",
    "        coupon_price_discrete = 0.0\n",
    "        for i in range(1, self.maturity+1):\n",
    "            coupon_price_discrete += (self.principal*self.coupon_rate)/(1.0 + self.market_rate)**i\n",
    "        bond_price_discrete = coupon_price_discrete + (self.principal)/(1.0 + self.market_rate)**self.maturity\n",
    "        return bond_price_discrete\n",
    "    \n",
    "    def price_continuous(self):\n",
    "        coupon_price_continuous = 0.0\n",
    "        for i in range(1, self.maturity+1):\n",
    "            coupon_price_continuous += (self.principal*self.coupon_rate)*exp(-self.market_rate*i)\n",
    "        bond_price_continuous = coupon_price_continuous + (self.principal)*exp(-self.market_rate*self.maturity)\n",
    "        return bond_price_continuous    "
   ]
  },
  {
   "cell_type": "code",
   "execution_count": 3,
   "id": "247b1cd8",
   "metadata": {},
   "outputs": [],
   "source": [
    "coupon_bond_price = coupon_bond(1000, 10, 4, 3)"
   ]
  },
  {
   "cell_type": "code",
   "execution_count": 4,
   "id": "9f573f74",
   "metadata": {},
   "outputs": [
    {
     "name": "stdout",
     "output_type": "stream",
     "text": [
      "Price of coupon bond discrete is $1166.51\n"
     ]
    }
   ],
   "source": [
    "print('Price of coupon bond discrete is $%.2f' %coupon_bond_price.price_discrete())"
   ]
  },
  {
   "cell_type": "code",
   "execution_count": 5,
   "id": "6c24ea4f",
   "metadata": {},
   "outputs": [
    {
     "name": "stdout",
     "output_type": "stream",
     "text": [
      "Price of coupon bond continuous is $1164.00\n"
     ]
    }
   ],
   "source": [
    "print('Price of coupon bond continuous is $%.2f' %coupon_bond_price.price_continuous())"
   ]
  },
  {
   "cell_type": "code",
   "execution_count": null,
   "id": "d4dafa07",
   "metadata": {},
   "outputs": [],
   "source": []
  }
 ],
 "metadata": {
  "kernelspec": {
   "display_name": "Python 3 (ipykernel)",
   "language": "python",
   "name": "python3"
  },
  "language_info": {
   "codemirror_mode": {
    "name": "ipython",
    "version": 3
   },
   "file_extension": ".py",
   "mimetype": "text/x-python",
   "name": "python",
   "nbconvert_exporter": "python",
   "pygments_lexer": "ipython3",
   "version": "3.9.7"
  }
 },
 "nbformat": 4,
 "nbformat_minor": 5
}
