{
 "cells": [
  {
   "cell_type": "code",
   "execution_count": 1,
   "id": "65661ba5",
   "metadata": {},
   "outputs": [],
   "source": [
    "from scipy import stats\n",
    "from numpy import log, exp, sqrt"
   ]
  },
  {
   "cell_type": "code",
   "execution_count": 2,
   "id": "b7a1bd02",
   "metadata": {},
   "outputs": [],
   "source": [
    "def call_option_price(S, E, T, rf, sigma):\n",
    "    # first we have to calculate d1 and d2 parameters\n",
    "    d1 = (log(S / E) + (rf + sigma * sigma / 2.0) * T) / (sigma * sqrt(T))\n",
    "    d2 = d1 - sigma * sqrt(T)\n",
    "    print(\"The d1 and d2 parameters: %s, %s\" % (d1, d2))\n",
    "    # use the N(x) to calculate the price of the option\n",
    "    return S*stats.norm.cdf(d1)-E*exp(-rf*T)*stats.norm.cdf(d2)"
   ]
  },
  {
   "cell_type": "code",
   "execution_count": 3,
   "id": "74f32fda",
   "metadata": {},
   "outputs": [],
   "source": [
    "def put_option_price(S, E, T, rf, sigma):\n",
    "    # first we have to calculate d1 and d2 parameters\n",
    "    d1 = (log(S / E) + (rf + sigma * sigma / 2.0) * T) / (sigma * sqrt(T))\n",
    "    d2 = d1 - sigma * sqrt(T)\n",
    "    print(\"The d1 and d2 parameters: %s, %s\" % (d1, d2))\n",
    "    # use the N(x) to calculate the price of the option\n",
    "    return -S*stats.norm.cdf(-d1)+E*exp(-rf*T)*stats.norm.cdf(-d2)"
   ]
  },
  {
   "cell_type": "code",
   "execution_count": 4,
   "id": "4e8babb2",
   "metadata": {},
   "outputs": [
    {
     "name": "stdout",
     "output_type": "stream",
     "text": [
      "The d1 and d2 parameters: 0.35000000000000003, 0.15000000000000002\n",
      "Call option price according to Black-Scholes model:  10.450583572185565\n",
      "The d1 and d2 parameters: 0.35000000000000003, 0.15000000000000002\n",
      "Put option price according to Black-Scholes model:  5.573526022256971\n"
     ]
    }
   ],
   "source": [
    "# underlying stock price at t=0\n",
    "S0 = 100\n",
    "# strike price\n",
    "E = 100\n",
    "# expiry 1year=365days\n",
    "T = 1\n",
    "# risk-free rate\n",
    "rf = 0.05\n",
    "# volatility of the underlying stock\n",
    "sigma = 0.2\n",
    "\n",
    "print(\"Call option price according to Black-Scholes model: \", call_option_price(S0, E, T, rf, sigma))\n",
    "print(\"Put option price according to Black-Scholes model: \", put_option_price(S0, E, T, rf, sigma))\n"
   ]
  },
  {
   "cell_type": "code",
   "execution_count": null,
   "id": "5de7acd6",
   "metadata": {},
   "outputs": [],
   "source": []
  }
 ],
 "metadata": {
  "kernelspec": {
   "display_name": "Python 3 (ipykernel)",
   "language": "python",
   "name": "python3"
  },
  "language_info": {
   "codemirror_mode": {
    "name": "ipython",
    "version": 3
   },
   "file_extension": ".py",
   "mimetype": "text/x-python",
   "name": "python",
   "nbconvert_exporter": "python",
   "pygments_lexer": "ipython3",
   "version": "3.9.7"
  }
 },
 "nbformat": 4,
 "nbformat_minor": 5
}
