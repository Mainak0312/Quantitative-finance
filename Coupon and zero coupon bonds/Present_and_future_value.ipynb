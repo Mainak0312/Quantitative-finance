{
 "cells": [
  {
   "cell_type": "code",
   "execution_count": 11,
   "id": "621336d4",
   "metadata": {},
   "outputs": [],
   "source": [
    "import numpy as np"
   ]
  },
  {
   "cell_type": "code",
   "execution_count": 12,
   "id": "c33bee81",
   "metadata": {},
   "outputs": [],
   "source": [
    "def future_discrete_value(x,r,n):\n",
    "    return x*(1+r)**n "
   ]
  },
  {
   "cell_type": "code",
   "execution_count": 13,
   "id": "9dcbc17a",
   "metadata": {},
   "outputs": [],
   "source": [
    "def present_discrete_value(x,r,n):\n",
    "    return x*(1+r)**-n "
   ]
  },
  {
   "cell_type": "code",
   "execution_count": 14,
   "id": "378e2210",
   "metadata": {},
   "outputs": [],
   "source": [
    "def future_continuous_value(x,r,t):\n",
    "    return x*np.exp(r*t)"
   ]
  },
  {
   "cell_type": "code",
   "execution_count": 15,
   "id": "0b077a10",
   "metadata": {},
   "outputs": [],
   "source": [
    "def present_continuous_value(x,r,t):\n",
    "    return x*np.exp(-r*t)"
   ]
  },
  {
   "cell_type": "code",
   "execution_count": 16,
   "id": "a4675e18",
   "metadata": {},
   "outputs": [],
   "source": [
    "# value of investment in dollars\n",
    "x = 100\n",
    "# define the interest rate (r)\n",
    "r = 0.05\n",
    "# duration (years)\n",
    "n = 5"
   ]
  },
  {
   "cell_type": "code",
   "execution_count": 17,
   "id": "c7cb77f9",
   "metadata": {},
   "outputs": [
    {
     "name": "stdout",
     "output_type": "stream",
     "text": [
      "future discrete value $127.63\n"
     ]
    }
   ],
   "source": [
    "print('future discrete value $%.2f' %(future_discrete_value(x,r,n)))"
   ]
  },
  {
   "cell_type": "code",
   "execution_count": 18,
   "id": "9e6b9aa4",
   "metadata": {},
   "outputs": [
    {
     "name": "stdout",
     "output_type": "stream",
     "text": [
      "future continuous value $128.40\n"
     ]
    }
   ],
   "source": [
    "print('future continuous value $%.2f' %future_continuous_value(x,r,n))"
   ]
  },
  {
   "cell_type": "code",
   "execution_count": 19,
   "id": "8d9542b1",
   "metadata": {},
   "outputs": [
    {
     "name": "stdout",
     "output_type": "stream",
     "text": [
      "present continuous value $77.88\n"
     ]
    }
   ],
   "source": [
    "print('present continuous value $%.2f' %present_continuous_value(x,r,n))"
   ]
  },
  {
   "cell_type": "code",
   "execution_count": 20,
   "id": "1b50338e",
   "metadata": {},
   "outputs": [
    {
     "name": "stdout",
     "output_type": "stream",
     "text": [
      "present discrete value $78.35\n"
     ]
    }
   ],
   "source": [
    "print('present discrete value $%.2f' %present_discrete_value(x,r,n))"
   ]
  },
  {
   "cell_type": "code",
   "execution_count": null,
   "id": "764fe963",
   "metadata": {},
   "outputs": [],
   "source": []
  }
 ],
 "metadata": {
  "kernelspec": {
   "display_name": "Python 3 (ipykernel)",
   "language": "python",
   "name": "python3"
  },
  "language_info": {
   "codemirror_mode": {
    "name": "ipython",
    "version": 3
   },
   "file_extension": ".py",
   "mimetype": "text/x-python",
   "name": "python",
   "nbconvert_exporter": "python",
   "pygments_lexer": "ipython3",
   "version": "3.9.7"
  }
 },
 "nbformat": 4,
 "nbformat_minor": 5
}
