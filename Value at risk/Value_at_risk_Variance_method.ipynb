{
 "cells": [
  {
   "cell_type": "code",
   "execution_count": 1,
   "id": "43b9ca51",
   "metadata": {},
   "outputs": [],
   "source": [
    "import numpy as np\n",
    "import yfinance as yf\n",
    "from scipy.stats import norm\n",
    "import pandas as pd\n",
    "import datetime"
   ]
  },
  {
   "cell_type": "code",
   "execution_count": 2,
   "id": "c507a1e0",
   "metadata": {},
   "outputs": [],
   "source": [
    "def download_data(stock, start_date, end_date):\n",
    "    data = {}\n",
    "    ticker = yf.download(stock, start_date, end_date)\n",
    "    data[stock] = ticker['Adj Close']\n",
    "    return pd.DataFrame(data)"
   ]
  },
  {
   "cell_type": "code",
   "execution_count": 3,
   "id": "a834f05f",
   "metadata": {},
   "outputs": [],
   "source": [
    "# this is how we calculate the VaR for any days (dt) in the future\n",
    "def calculate_var_dt(position, c, mu, sigma, dt):\n",
    "    var = position * (mu * dt - sigma * np.sqrt(dt) * norm.ppf(1-c))\n",
    "    return var"
   ]
  },
  {
   "cell_type": "code",
   "execution_count": 4,
   "id": "d44112d0",
   "metadata": {},
   "outputs": [],
   "source": [
    "start = datetime.datetime(2019, 1, 1)\n",
    "end = datetime.datetime(2022, 1, 1)"
   ]
  },
  {
   "cell_type": "code",
   "execution_count": 5,
   "id": "2acb9ee3",
   "metadata": {},
   "outputs": [
    {
     "name": "stdout",
     "output_type": "stream",
     "text": [
      "[*********************100%***********************]  1 of 1 completed\n"
     ]
    }
   ],
   "source": [
    "stock_data = download_data('TSLA', start, end)"
   ]
  },
  {
   "cell_type": "code",
   "execution_count": 6,
   "id": "81c30a4d",
   "metadata": {
    "scrolled": true
   },
   "outputs": [
    {
     "name": "stdout",
     "output_type": "stream",
     "text": [
      "                                 TSLA   returns\n",
      "Date                                           \n",
      "2019-01-03 00:00:00-05:00   20.024000 -0.031978\n",
      "2019-01-04 00:00:00-05:00   21.179333  0.056094\n",
      "2019-01-07 00:00:00-05:00   22.330667  0.052935\n",
      "2019-01-08 00:00:00-05:00   22.356667  0.001164\n",
      "2019-01-09 00:00:00-05:00   22.568666  0.009438\n",
      "...                               ...       ...\n",
      "2021-12-27 00:00:00-05:00  364.646667  0.024935\n",
      "2021-12-28 00:00:00-05:00  362.823334 -0.005013\n",
      "2021-12-29 00:00:00-05:00  362.063324 -0.002097\n",
      "2021-12-30 00:00:00-05:00  356.779999 -0.014700\n",
      "2021-12-31 00:00:00-05:00  352.260010 -0.012750\n",
      "\n",
      "[756 rows x 2 columns]\n"
     ]
    }
   ],
   "source": [
    "stock_data['returns'] = np.log(stock_data['TSLA'] / stock_data['TSLA'].shift(1))\n",
    "stock_data = stock_data[1:]\n",
    "print(stock_data)"
   ]
  },
  {
   "cell_type": "code",
   "execution_count": 10,
   "id": "d319e55f",
   "metadata": {},
   "outputs": [
    {
     "name": "stdout",
     "output_type": "stream",
     "text": [
      "Value at risk is: $73032.48\n"
     ]
    }
   ],
   "source": [
    "# this is the investment (stocks or whatever)\n",
    "S = 1e6\n",
    "# confidence level - this time it is 95%\n",
    "c = 0.95\n",
    "\n",
    "# we assume that daily returns are normally distributed\n",
    "mu = np.mean(stock_data['returns'])\n",
    "sigma = np.std(stock_data['returns'])\n",
    "\n",
    "print('Value at risk is: $%0.2f' % calculate_var_dt(S, c, mu, sigma, 1))\n"
   ]
  },
  {
   "cell_type": "code",
   "execution_count": null,
   "id": "b585bd9b",
   "metadata": {},
   "outputs": [],
   "source": []
  }
 ],
 "metadata": {
  "kernelspec": {
   "display_name": "Python 3 (ipykernel)",
   "language": "python",
   "name": "python3"
  },
  "language_info": {
   "codemirror_mode": {
    "name": "ipython",
    "version": 3
   },
   "file_extension": ".py",
   "mimetype": "text/x-python",
   "name": "python",
   "nbconvert_exporter": "python",
   "pygments_lexer": "ipython3",
   "version": "3.9.7"
  }
 },
 "nbformat": 4,
 "nbformat_minor": 5
}
