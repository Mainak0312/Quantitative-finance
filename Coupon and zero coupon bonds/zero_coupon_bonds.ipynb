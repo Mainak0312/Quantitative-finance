{
 "cells": [
  {
   "cell_type": "code",
   "execution_count": 24,
   "id": "64bace37",
   "metadata": {},
   "outputs": [],
   "source": [
    "class zero_coupon_bonds:\n",
    "    def __init__(self, principal, n, r):\n",
    "        self.principal = principal\n",
    "        self.n = n\n",
    "        self.r = r/100.0\n",
    "    def bond_price(self):\n",
    "        return (self.principal)/((1.0+self.r)**self.n)\n",
    "    "
   ]
  },
  {
   "cell_type": "code",
   "execution_count": 25,
   "id": "1e6b22ab",
   "metadata": {},
   "outputs": [],
   "source": [
    "bond = zero_coupon_bonds(1000,2,4)"
   ]
  },
  {
   "cell_type": "code",
   "execution_count": 26,
   "id": "ad943c39",
   "metadata": {},
   "outputs": [
    {
     "name": "stdout",
     "output_type": "stream",
     "text": [
      "bond price is $924.56\n"
     ]
    }
   ],
   "source": [
    "print('bond price is $%.2f' %bond.bond_price())\n"
   ]
  },
  {
   "cell_type": "code",
   "execution_count": null,
   "id": "91e022e3",
   "metadata": {},
   "outputs": [],
   "source": []
  }
 ],
 "metadata": {
  "kernelspec": {
   "display_name": "Python 3 (ipykernel)",
   "language": "python",
   "name": "python3"
  },
  "language_info": {
   "codemirror_mode": {
    "name": "ipython",
    "version": 3
   },
   "file_extension": ".py",
   "mimetype": "text/x-python",
   "name": "python",
   "nbconvert_exporter": "python",
   "pygments_lexer": "ipython3",
   "version": "3.9.7"
  }
 },
 "nbformat": 4,
 "nbformat_minor": 5
}
