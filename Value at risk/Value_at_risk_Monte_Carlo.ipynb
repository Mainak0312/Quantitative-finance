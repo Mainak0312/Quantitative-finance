{
 "cells": [
  {
   "cell_type": "code",
   "execution_count": 1,
   "id": "c384669f",
   "metadata": {},
   "outputs": [],
   "source": [
    "import numpy as np\n",
    "import yfinance as yf\n",
    "import datetime\n",
    "import pandas as pd"
   ]
  },
  {
   "cell_type": "code",
   "execution_count": 2,
   "id": "730529b9",
   "metadata": {},
   "outputs": [],
   "source": [
    "def download_data(stock, start, end):\n",
    "    data = {}\n",
    "    ticker = yf.download(stock, start, end)\n",
    "    data['Adj Close'] = ticker['Adj Close']\n",
    "    return pd.DataFrame(data)"
   ]
  },
  {
   "cell_type": "code",
   "execution_count": 3,
   "id": "fd8b6080",
   "metadata": {},
   "outputs": [],
   "source": [
    "class ValueAtRiskMonteCarlo:\n",
    "\n",
    "    def __init__(self, S, mu, sigma, c, n, iterations):\n",
    "        self.S = S\n",
    "        self.mu = mu\n",
    "        self.sigma = sigma\n",
    "        self.c = c\n",
    "        self.n = n\n",
    "        self.iterations = iterations\n",
    "\n",
    "    def simulation(self):\n",
    "        stock_data = np.zeros([self.iterations, 1])\n",
    "        rand = np.random.normal(0, 1, [1, self.iterations])\n",
    "\n",
    "        # equation for the S(t) stock price\n",
    "        stock_price = self.S * np.exp(self.n * (self.mu - 0.5 * self.sigma ** 2) + self.sigma * np.sqrt(self.n) * rand)\n",
    "\n",
    "        # we have to sort the stock prices to determine the percentile\n",
    "        stock_price = np.sort(stock_price)\n",
    "\n",
    "        # it depends on the confidence level: 95% -> 5 and 99% -> 1\n",
    "        percentile = np.percentile(stock_price, (1 - self.c) * 100)\n",
    "\n",
    "        return self.S - percentile"
   ]
  },
  {
   "cell_type": "code",
   "execution_count": 4,
   "id": "2dd0d1b5",
   "metadata": {},
   "outputs": [],
   "source": [
    "S = 1e6  # this is the investment (stocks or whatever)\n",
    "c = 0.95  # condifence level: this time it is 99%\n",
    "n = 1  # 1 day\n",
    "iterations = 1000000  # number of paths in the Monte-Carlo simulation\n",
    "\n",
    "# historical data to approximate mean and standard deviation\n",
    "start_date = datetime.datetime(2019, 1, 1)\n",
    "end_date = datetime.datetime(2022, 1, 1)"
   ]
  },
  {
   "cell_type": "code",
   "execution_count": 5,
   "id": "38b210fd",
   "metadata": {},
   "outputs": [
    {
     "name": "stdout",
     "output_type": "stream",
     "text": [
      "[*********************100%***********************]  1 of 1 completed\n"
     ]
    }
   ],
   "source": [
    "# download stock related data from Yahoo Finance\n",
    "tesla = download_data('TSLA', start_date, end_date)\n",
    "\n",
    "# calculate daily returns\n",
    "tesla['returns'] = np.log(tesla['Adj Close']/tesla['Adj Close'].shift(1))"
   ]
  },
  {
   "cell_type": "code",
   "execution_count": 6,
   "id": "e2e5a2b7",
   "metadata": {},
   "outputs": [],
   "source": [
    "tesla = tesla[1:]"
   ]
  },
  {
   "cell_type": "code",
   "execution_count": 7,
   "id": "60eb1cdd",
   "metadata": {},
   "outputs": [
    {
     "name": "stdout",
     "output_type": "stream",
     "text": [
      "Value at risk with Monte-Carlo simulation: $64235.52\n"
     ]
    }
   ],
   "source": [
    "# we can assume daily returns to be normally sidtributed: mean and variance (standard deviation)\n",
    "# can describe the process\n",
    "mu = np.mean(tesla['returns'])\n",
    "sigma = np.std(tesla['returns'])\n",
    "\n",
    "model = ValueAtRiskMonteCarlo(S, mu, sigma, c, n, iterations)\n",
    "\n",
    "print('Value at risk with Monte-Carlo simulation: $%0.2f' % model.simulation())"
   ]
  },
  {
   "cell_type": "code",
   "execution_count": null,
   "id": "5b5f336b",
   "metadata": {},
   "outputs": [],
   "source": []
  }
 ],
 "metadata": {
  "kernelspec": {
   "display_name": "Python 3 (ipykernel)",
   "language": "python",
   "name": "python3"
  },
  "language_info": {
   "codemirror_mode": {
    "name": "ipython",
    "version": 3
   },
   "file_extension": ".py",
   "mimetype": "text/x-python",
   "name": "python",
   "nbconvert_exporter": "python",
   "pygments_lexer": "ipython3",
   "version": "3.9.7"
  }
 },
 "nbformat": 4,
 "nbformat_minor": 5
}
