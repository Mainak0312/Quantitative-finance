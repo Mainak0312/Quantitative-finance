{
 "cells": [
  {
   "cell_type": "code",
   "execution_count": 49,
   "id": "70c19f29",
   "metadata": {},
   "outputs": [],
   "source": [
    "import numpy as np\n",
    "import pandas as pd\n",
    "import yfinance as yf\n",
    "import matplotlib.pyplot as plt"
   ]
  },
  {
   "cell_type": "code",
   "execution_count": 50,
   "id": "07a7ed8e",
   "metadata": {},
   "outputs": [],
   "source": [
    "stocks = ['IBM', '^GSPC']\n",
    "start_date = '2010-01-01'\n",
    "end_date = '2017-01-01'"
   ]
  },
  {
   "cell_type": "code",
   "execution_count": 84,
   "id": "034ae0ca",
   "metadata": {},
   "outputs": [],
   "source": [
    "# market interest rate\n",
    "RISK_FREE_RATE = 0.05\n",
    "# we will consider monthly returns - and we want to calculate the annual return\n",
    "MONTHS_IN_YEAR = 12"
   ]
  },
  {
   "cell_type": "code",
   "execution_count": 51,
   "id": "d3137167",
   "metadata": {},
   "outputs": [],
   "source": [
    "# define a method/function to download data from yahoo finance\n",
    "def download_data():\n",
    "    data = {}\n",
    "    ticker = yf.download(stocks, start_date, end_date)['Adj Close']\n",
    "    return ticker"
   ]
  },
  {
   "cell_type": "code",
   "execution_count": 52,
   "id": "9462cbc5",
   "metadata": {},
   "outputs": [
    {
     "name": "stdout",
     "output_type": "stream",
     "text": [
      "[*********************100%***********************]  2 of 2 completed\n"
     ]
    }
   ],
   "source": [
    "stock_data = download_data()"
   ]
  },
  {
   "cell_type": "code",
   "execution_count": 53,
   "id": "3a0b435b",
   "metadata": {},
   "outputs": [],
   "source": [
    "stock_data = stock_data.resample('M').last()"
   ]
  },
  {
   "cell_type": "code",
   "execution_count": 54,
   "id": "2e671c32",
   "metadata": {},
   "outputs": [
    {
     "data": {
      "text/html": [
       "<div>\n",
       "<style scoped>\n",
       "    .dataframe tbody tr th:only-of-type {\n",
       "        vertical-align: middle;\n",
       "    }\n",
       "\n",
       "    .dataframe tbody tr th {\n",
       "        vertical-align: top;\n",
       "    }\n",
       "\n",
       "    .dataframe thead th {\n",
       "        text-align: right;\n",
       "    }\n",
       "</style>\n",
       "<table border=\"1\" class=\"dataframe\">\n",
       "  <thead>\n",
       "    <tr style=\"text-align: right;\">\n",
       "      <th></th>\n",
       "      <th>IBM</th>\n",
       "      <th>^GSPC</th>\n",
       "    </tr>\n",
       "    <tr>\n",
       "      <th>Date</th>\n",
       "      <th></th>\n",
       "      <th></th>\n",
       "    </tr>\n",
       "  </thead>\n",
       "  <tbody>\n",
       "    <tr>\n",
       "      <th>2010-01-31</th>\n",
       "      <td>76.034500</td>\n",
       "      <td>1073.869995</td>\n",
       "    </tr>\n",
       "    <tr>\n",
       "      <th>2010-02-28</th>\n",
       "      <td>79.351158</td>\n",
       "      <td>1104.489990</td>\n",
       "    </tr>\n",
       "    <tr>\n",
       "      <th>2010-03-31</th>\n",
       "      <td>80.031349</td>\n",
       "      <td>1169.430054</td>\n",
       "    </tr>\n",
       "    <tr>\n",
       "      <th>2010-04-30</th>\n",
       "      <td>80.499374</td>\n",
       "      <td>1186.689941</td>\n",
       "    </tr>\n",
       "    <tr>\n",
       "      <th>2010-05-31</th>\n",
       "      <td>78.566177</td>\n",
       "      <td>1089.410034</td>\n",
       "    </tr>\n",
       "  </tbody>\n",
       "</table>\n",
       "</div>"
      ],
      "text/plain": [
       "                  IBM        ^GSPC\n",
       "Date                              \n",
       "2010-01-31  76.034500  1073.869995\n",
       "2010-02-28  79.351158  1104.489990\n",
       "2010-03-31  80.031349  1169.430054\n",
       "2010-04-30  80.499374  1186.689941\n",
       "2010-05-31  78.566177  1089.410034"
      ]
     },
     "execution_count": 54,
     "metadata": {},
     "output_type": "execute_result"
    }
   ],
   "source": [
    "stock_data.head()"
   ]
  },
  {
   "cell_type": "code",
   "execution_count": 55,
   "id": "04834410",
   "metadata": {},
   "outputs": [],
   "source": [
    "stock_data = stock_data.rename(columns={'IBM' : 's_adjclose', '^GSPC' : 'm_adjclose'})"
   ]
  },
  {
   "cell_type": "code",
   "execution_count": 58,
   "id": "dca669da",
   "metadata": {
    "scrolled": true
   },
   "outputs": [
    {
     "data": {
      "text/html": [
       "<div>\n",
       "<style scoped>\n",
       "    .dataframe tbody tr th:only-of-type {\n",
       "        vertical-align: middle;\n",
       "    }\n",
       "\n",
       "    .dataframe tbody tr th {\n",
       "        vertical-align: top;\n",
       "    }\n",
       "\n",
       "    .dataframe thead th {\n",
       "        text-align: right;\n",
       "    }\n",
       "</style>\n",
       "<table border=\"1\" class=\"dataframe\">\n",
       "  <thead>\n",
       "    <tr style=\"text-align: right;\">\n",
       "      <th></th>\n",
       "      <th>s_adjclose</th>\n",
       "      <th>m_adjclose</th>\n",
       "    </tr>\n",
       "    <tr>\n",
       "      <th>Date</th>\n",
       "      <th></th>\n",
       "      <th></th>\n",
       "    </tr>\n",
       "  </thead>\n",
       "  <tbody>\n",
       "    <tr>\n",
       "      <th>2010-01-31</th>\n",
       "      <td>76.034500</td>\n",
       "      <td>1073.869995</td>\n",
       "    </tr>\n",
       "    <tr>\n",
       "      <th>2010-02-28</th>\n",
       "      <td>79.351158</td>\n",
       "      <td>1104.489990</td>\n",
       "    </tr>\n",
       "    <tr>\n",
       "      <th>2010-03-31</th>\n",
       "      <td>80.031349</td>\n",
       "      <td>1169.430054</td>\n",
       "    </tr>\n",
       "    <tr>\n",
       "      <th>2010-04-30</th>\n",
       "      <td>80.499374</td>\n",
       "      <td>1186.689941</td>\n",
       "    </tr>\n",
       "    <tr>\n",
       "      <th>2010-05-31</th>\n",
       "      <td>78.566177</td>\n",
       "      <td>1089.410034</td>\n",
       "    </tr>\n",
       "  </tbody>\n",
       "</table>\n",
       "</div>"
      ],
      "text/plain": [
       "            s_adjclose   m_adjclose\n",
       "Date                               \n",
       "2010-01-31   76.034500  1073.869995\n",
       "2010-02-28   79.351158  1104.489990\n",
       "2010-03-31   80.031349  1169.430054\n",
       "2010-04-30   80.499374  1186.689941\n",
       "2010-05-31   78.566177  1089.410034"
      ]
     },
     "execution_count": 58,
     "metadata": {},
     "output_type": "execute_result"
    }
   ],
   "source": [
    "stock_data.head()"
   ]
  },
  {
   "cell_type": "code",
   "execution_count": 59,
   "id": "7a6e6c0d",
   "metadata": {},
   "outputs": [
    {
     "data": {
      "text/html": [
       "<div>\n",
       "<style scoped>\n",
       "    .dataframe tbody tr th:only-of-type {\n",
       "        vertical-align: middle;\n",
       "    }\n",
       "\n",
       "    .dataframe tbody tr th {\n",
       "        vertical-align: top;\n",
       "    }\n",
       "\n",
       "    .dataframe thead th {\n",
       "        text-align: right;\n",
       "    }\n",
       "</style>\n",
       "<table border=\"1\" class=\"dataframe\">\n",
       "  <thead>\n",
       "    <tr style=\"text-align: right;\">\n",
       "      <th></th>\n",
       "      <th>s_adjclose</th>\n",
       "      <th>m_adjclose</th>\n",
       "    </tr>\n",
       "    <tr>\n",
       "      <th>Date</th>\n",
       "      <th></th>\n",
       "      <th></th>\n",
       "    </tr>\n",
       "  </thead>\n",
       "  <tbody>\n",
       "    <tr>\n",
       "      <th>2010-01-31</th>\n",
       "      <td>NaN</td>\n",
       "      <td>NaN</td>\n",
       "    </tr>\n",
       "    <tr>\n",
       "      <th>2010-02-28</th>\n",
       "      <td>76.034500</td>\n",
       "      <td>1073.869995</td>\n",
       "    </tr>\n",
       "    <tr>\n",
       "      <th>2010-03-31</th>\n",
       "      <td>79.351158</td>\n",
       "      <td>1104.489990</td>\n",
       "    </tr>\n",
       "    <tr>\n",
       "      <th>2010-04-30</th>\n",
       "      <td>80.031349</td>\n",
       "      <td>1169.430054</td>\n",
       "    </tr>\n",
       "    <tr>\n",
       "      <th>2010-05-31</th>\n",
       "      <td>80.499374</td>\n",
       "      <td>1186.689941</td>\n",
       "    </tr>\n",
       "    <tr>\n",
       "      <th>...</th>\n",
       "      <td>...</td>\n",
       "      <td>...</td>\n",
       "    </tr>\n",
       "    <tr>\n",
       "      <th>2016-08-31</th>\n",
       "      <td>115.646942</td>\n",
       "      <td>2173.600098</td>\n",
       "    </tr>\n",
       "    <tr>\n",
       "      <th>2016-09-30</th>\n",
       "      <td>115.382133</td>\n",
       "      <td>2170.949951</td>\n",
       "    </tr>\n",
       "    <tr>\n",
       "      <th>2016-10-31</th>\n",
       "      <td>115.360313</td>\n",
       "      <td>2168.270020</td>\n",
       "    </tr>\n",
       "    <tr>\n",
       "      <th>2016-11-30</th>\n",
       "      <td>111.613037</td>\n",
       "      <td>2126.149902</td>\n",
       "    </tr>\n",
       "    <tr>\n",
       "      <th>2016-12-31</th>\n",
       "      <td>118.876419</td>\n",
       "      <td>2198.810059</td>\n",
       "    </tr>\n",
       "  </tbody>\n",
       "</table>\n",
       "<p>84 rows × 2 columns</p>\n",
       "</div>"
      ],
      "text/plain": [
       "            s_adjclose   m_adjclose\n",
       "Date                               \n",
       "2010-01-31         NaN          NaN\n",
       "2010-02-28   76.034500  1073.869995\n",
       "2010-03-31   79.351158  1104.489990\n",
       "2010-04-30   80.031349  1169.430054\n",
       "2010-05-31   80.499374  1186.689941\n",
       "...                ...          ...\n",
       "2016-08-31  115.646942  2173.600098\n",
       "2016-09-30  115.382133  2170.949951\n",
       "2016-10-31  115.360313  2168.270020\n",
       "2016-11-30  111.613037  2126.149902\n",
       "2016-12-31  118.876419  2198.810059\n",
       "\n",
       "[84 rows x 2 columns]"
      ]
     },
     "execution_count": 59,
     "metadata": {},
     "output_type": "execute_result"
    }
   ],
   "source": [
    "stock_data.shift(1)"
   ]
  },
  {
   "cell_type": "code",
   "execution_count": 60,
   "id": "64d9147a",
   "metadata": {},
   "outputs": [],
   "source": [
    "# log returns\n",
    "log_returns = np.log(stock_data/stock_data.shift(1))\n",
    "log_returns = log_returns[1:]"
   ]
  },
  {
   "cell_type": "code",
   "execution_count": 70,
   "id": "6ee13e33",
   "metadata": {},
   "outputs": [],
   "source": [
    "log_returns = log_returns.rename(columns={'s_adjclose' : 's_returns', 'm_adjclose' : 'm_returns'})"
   ]
  },
  {
   "cell_type": "code",
   "execution_count": 72,
   "id": "18eca38f",
   "metadata": {},
   "outputs": [],
   "source": [
    "# covariance matrix\n",
    "cov_matrix = log_returns.cov() # this returns a dataframe\n",
    "# we need to convert it to a matrix\n",
    "cov_matrix = cov_matrix.to_numpy()"
   ]
  },
  {
   "cell_type": "code",
   "execution_count": 73,
   "id": "5212cfa6",
   "metadata": {},
   "outputs": [
    {
     "data": {
      "text/plain": [
       "array([[0.00230049, 0.00093754],\n",
       "       [0.00093754, 0.00131399]])"
      ]
     },
     "execution_count": 73,
     "metadata": {},
     "output_type": "execute_result"
    }
   ],
   "source": [
    "cov_matrix\n"
   ]
  },
  {
   "cell_type": "code",
   "execution_count": 74,
   "id": "9bb38114",
   "metadata": {},
   "outputs": [],
   "source": [
    "# beta from formula \n",
    "beta = cov_matrix[0,1]/cov_matrix[1,1]"
   ]
  },
  {
   "cell_type": "code",
   "execution_count": 83,
   "id": "2f717e1f",
   "metadata": {
    "scrolled": true
   },
   "outputs": [],
   "source": [
    "# using linear regression to fit a line to the data\n",
    "# [stock_returns, market_returns] - slope is the beta\n",
    "# beta from regression\n",
    "beta1, alpha = np.polyfit(log_returns['m_returns'], log_returns['s_returns'], deg=1)"
   ]
  },
  {
   "cell_type": "code",
   "execution_count": 86,
   "id": "35099709",
   "metadata": {},
   "outputs": [
    {
     "data": {
      "text/html": [
       "<div>\n",
       "<style scoped>\n",
       "    .dataframe tbody tr th:only-of-type {\n",
       "        vertical-align: middle;\n",
       "    }\n",
       "\n",
       "    .dataframe tbody tr th {\n",
       "        vertical-align: top;\n",
       "    }\n",
       "\n",
       "    .dataframe thead th {\n",
       "        text-align: right;\n",
       "    }\n",
       "</style>\n",
       "<table border=\"1\" class=\"dataframe\">\n",
       "  <thead>\n",
       "    <tr style=\"text-align: right;\">\n",
       "      <th></th>\n",
       "      <th>s_returns</th>\n",
       "      <th>m_returns</th>\n",
       "    </tr>\n",
       "    <tr>\n",
       "      <th>Date</th>\n",
       "      <th></th>\n",
       "      <th></th>\n",
       "    </tr>\n",
       "  </thead>\n",
       "  <tbody>\n",
       "    <tr>\n",
       "      <th>2010-02-28</th>\n",
       "      <td>0.042696</td>\n",
       "      <td>0.028115</td>\n",
       "    </tr>\n",
       "    <tr>\n",
       "      <th>2010-03-31</th>\n",
       "      <td>0.008535</td>\n",
       "      <td>0.057133</td>\n",
       "    </tr>\n",
       "    <tr>\n",
       "      <th>2010-04-30</th>\n",
       "      <td>0.005831</td>\n",
       "      <td>0.014651</td>\n",
       "    </tr>\n",
       "    <tr>\n",
       "      <th>2010-05-31</th>\n",
       "      <td>-0.024308</td>\n",
       "      <td>-0.085532</td>\n",
       "    </tr>\n",
       "    <tr>\n",
       "      <th>2010-06-30</th>\n",
       "      <td>-0.014312</td>\n",
       "      <td>-0.055388</td>\n",
       "    </tr>\n",
       "  </tbody>\n",
       "</table>\n",
       "</div>"
      ],
      "text/plain": [
       "            s_returns  m_returns\n",
       "Date                            \n",
       "2010-02-28   0.042696   0.028115\n",
       "2010-03-31   0.008535   0.057133\n",
       "2010-04-30   0.005831   0.014651\n",
       "2010-05-31  -0.024308  -0.085532\n",
       "2010-06-30  -0.014312  -0.055388"
      ]
     },
     "execution_count": 86,
     "metadata": {},
     "output_type": "execute_result"
    }
   ],
   "source": [
    "log_returns.head()"
   ]
  },
  {
   "cell_type": "code",
   "execution_count": 88,
   "id": "3959e5a5",
   "metadata": {},
   "outputs": [],
   "source": [
    "# calculate the expected return according to the CAPM formula\n",
    "# we are after annual return (this is why multiply by 12)\n",
    "Expected_return = RISK_FREE_RATE + beta1*(log_returns['m_returns'].mean()*12 - RISK_FREE_RATE)"
   ]
  },
  {
   "cell_type": "code",
   "execution_count": 91,
   "id": "210ccbdf",
   "metadata": {},
   "outputs": [
    {
     "data": {
      "image/png": "[encoded data removed]",
      "text/plain": [
       "<Figure size 1440x720 with 1 Axes>"
      ]
     },
     "metadata": {
      "needs_background": "light"
     },
     "output_type": "display_data"
    }
   ],
   "source": [
    "fig, axis = plt.subplots(1, figsize=(20, 10))\n",
    "axis.scatter(log_returns[\"m_returns\"], log_returns['s_returns'], label=\"Market return data Points\")\n",
    "axis.plot(log_returns[\"m_returns\"], beta1 * log_returns[\"m_returns\"] + alpha, color='red', label=\"CAPM Line\")\n",
    "plt.title('Capital Asset Pricing Model, finding alpha and beta')\n",
    "plt.xlabel('Market return $R_m$', fontsize=18)\n",
    "plt.ylabel('Stock return $R_a$')\n",
    "plt.text(0.08, 0.05, r'$R_a = \\beta * R_m + \\alpha$', fontsize=18)\n",
    "plt.legend()\n",
    "plt.grid(True)\n",
    "plt.show()"
   ]
  },
  {
   "cell_type": "code",
   "execution_count": null,
   "id": "f9221876",
   "metadata": {},
   "outputs": [],
   "source": []
  }
 ],
 "metadata": {
  "kernelspec": {
   "display_name": "Python 3 (ipykernel)",
   "language": "python",
   "name": "python3"
  },
  "language_info": {
   "codemirror_mode": {
    "name": "ipython",
    "version": 3
   },
   "file_extension": ".py",
   "mimetype": "text/x-python",
   "name": "python",
   "nbconvert_exporter": "python",
   "pygments_lexer": "ipython3",
   "version": "3.9.7"
  }
 },
 "nbformat": 4,
 "nbformat_minor": 5
}
