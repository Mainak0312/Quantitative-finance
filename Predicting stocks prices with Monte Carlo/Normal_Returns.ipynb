{
 "cells": [
  {
   "cell_type": "code",
   "execution_count": 1,
   "id": "672f0e5d",
   "metadata": {},
   "outputs": [],
   "source": [
    "import numpy as np\n",
    "import pandas as pd\n",
    "import yfinance as yf\n",
    "import matplotlib.pyplot as plt\n",
    "from scipy.stats import norm"
   ]
  },
  {
   "cell_type": "code",
   "execution_count": 2,
   "id": "a25e8047",
   "metadata": {},
   "outputs": [],
   "source": [
    "stocks = ['IBM']\n",
    "start_date = '2010-01-01'\n",
    "end_date = '2020-01-01'"
   ]
  },
  {
   "cell_type": "code",
   "execution_count": 3,
   "id": "155c5f1a",
   "metadata": {},
   "outputs": [],
   "source": [
    "# define a method/function to download data from yahoo finance\n",
    "def download_data():\n",
    "    data = {}\n",
    "    ticker = yf.download(stocks, start_date, end_date)['Adj Close']\n",
    "    return ticker"
   ]
  },
  {
   "cell_type": "code",
   "execution_count": 4,
   "id": "5f4ffb69",
   "metadata": {},
   "outputs": [
    {
     "name": "stdout",
     "output_type": "stream",
     "text": [
      "[*********************100%***********************]  1 of 1 completed\n"
     ]
    }
   ],
   "source": [
    "stock_data = download_data()"
   ]
  },
  {
   "cell_type": "code",
   "execution_count": 5,
   "id": "1e24fbef",
   "metadata": {},
   "outputs": [],
   "source": [
    "log_returns = np.log(stock_data/stock_data.shift(1))\n",
    "log_returns = log_returns[1:]"
   ]
  },
  {
   "cell_type": "code",
   "execution_count": 7,
   "id": "ce29ad7c",
   "metadata": {},
   "outputs": [
    {
     "data": {
      "image/png": "[encoded data removed]",
      "text/plain": [
       "<Figure size 432x288 with 1 Axes>"
      ]
     },
     "metadata": {
      "needs_background": "light"
     },
     "output_type": "display_data"
    }
   ],
   "source": [
    "plt.hist(log_returns, bins=300)\n",
    "stock_variance = log_returns.var()\n",
    "stock_mean = log_returns.mean()\n",
    "sigma = np.sqrt(stock_variance)\n",
    "x = np.linspace(stock_mean - 3 * sigma, stock_mean + 3 * sigma, 100)\n",
    "plt.plot(x, norm.pdf(x, stock_mean, sigma))\n",
    "plt.show()"
   ]
  },
  {
   "cell_type": "code",
   "execution_count": null,
   "id": "ddd659c5",
   "metadata": {},
   "outputs": [],
   "source": []
  }
 ],
 "metadata": {
  "kernelspec": {
   "display_name": "Python 3 (ipykernel)",
   "language": "python",
   "name": "python3"
  },
  "language_info": {
   "codemirror_mode": {
    "name": "ipython",
    "version": 3
   },
   "file_extension": ".py",
   "mimetype": "text/x-python",
   "name": "python",
   "nbconvert_exporter": "python",
   "pygments_lexer": "ipython3",
   "version": "3.9.7"
  }
 },
 "nbformat": 4,
 "nbformat_minor": 5
}
