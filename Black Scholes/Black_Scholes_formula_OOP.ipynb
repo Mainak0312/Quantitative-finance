{
 "cells": [
  {
   "cell_type": "code",
   "execution_count": 1,
   "id": "eceef6f8",
   "metadata": {},
   "outputs": [],
   "source": [
    "from scipy import stats\n",
    "import numpy as np"
   ]
  },
  {
   "cell_type": "code",
   "execution_count": 2,
   "id": "372e358f",
   "metadata": {},
   "outputs": [],
   "source": [
    "# first we have to calculate d1 and d2 parameters\n",
    "def cal_d1_d2(S, E, T, rf, sigma):\n",
    "    d1 = (np.log(S/E) + (rf + 0.5*sigma*sigma)*T)/(sigma*np.sqrt(T))\n",
    "    d2 = d1 - sigma*np.sqrt(T)\n",
    "    print(\"The d1 and d2 parameters: %s, %s\" % (d1,d2))\n",
    "    return d1, d2"
   ]
  },
  {
   "cell_type": "code",
   "execution_count": 3,
   "id": "4cec8ad6",
   "metadata": {},
   "outputs": [],
   "source": [
    "# use the N(x) to calculate the price of the option\n",
    "def call_option_price(d1,d2,S, E, T, rf, sigma):\n",
    "    return S*stats.norm.cdf(d1) - E*np.exp(-rf*T)*stats.norm.cdf(d2)"
   ]
  },
  {
   "cell_type": "code",
   "execution_count": 4,
   "id": "f5ec764c",
   "metadata": {},
   "outputs": [],
   "source": [
    "# use the N(x) to calculate the price of the option\n",
    "def put_option_price(d1, d2, S, E, T, rf, sigma):\n",
    "    return -S*stats.norm.cdf(-d1) + E*np.exp(-rf*T)*stats.norm.cdf(-d2)"
   ]
  },
  {
   "cell_type": "code",
   "execution_count": 5,
   "id": "6d40284c",
   "metadata": {},
   "outputs": [
    {
     "name": "stdout",
     "output_type": "stream",
     "text": [
      "The d1 and d2 parameters: 0.35000000000000003, 0.15000000000000002\n",
      "Call option price according to Black-Scholes model:  10.450583572185565\n",
      "Put option price according to Black-Scholes model:  5.573526022256971\n"
     ]
    }
   ],
   "source": [
    "# underlying stock price at t=0\n",
    "S0 = 100\n",
    "# strike price\n",
    "E = 100\n",
    "# expiry 1year=365days\n",
    "T = 1\n",
    "# risk-free rate\n",
    "rf = 0.05\n",
    "# volatility of the underlying stock\n",
    "sigma = 0.2\n",
    "\n",
    "d1,d2 = cal_d1_d2(S0, E, T, rf, sigma)\n",
    "print(\"Call option price according to Black-Scholes model: \",\n",
    "          call_option_price(d1, d2,S0, E, T, rf, sigma))\n",
    "print(\"Put option price according to Black-Scholes model: \",\n",
    "          put_option_price(d1, d2,S0, E, T, rf, sigma))"
   ]
  },
  {
   "cell_type": "code",
   "execution_count": null,
   "id": "44678965",
   "metadata": {},
   "outputs": [],
   "source": []
  },
  {
   "cell_type": "code",
   "execution_count": null,
   "id": "8c009d54",
   "metadata": {},
   "outputs": [],
   "source": []
  }
 ],
 "metadata": {
  "kernelspec": {
   "display_name": "Python 3 (ipykernel)",
   "language": "python",
   "name": "python3"
  },
  "language_info": {
   "codemirror_mode": {
    "name": "ipython",
    "version": 3
   },
   "file_extension": ".py",
   "mimetype": "text/x-python",
   "name": "python",
   "nbconvert_exporter": "python",
   "pygments_lexer": "ipython3",
   "version": "3.9.7"
  }
 },
 "nbformat": 4,
 "nbformat_minor": 5
}
