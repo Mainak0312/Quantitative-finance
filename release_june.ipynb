{
 "cells": [
  {
   "cell_type": "markdown",
   "id": "b2594640-ffdd-4779-89aa-bd999caf2cf5",
   "metadata": {},
   "source": [
    "## Change 2"
   ]
  },
  {
   "cell_type": "markdown",
   "id": "5d691954-207c-48f1-9276-39d87405d466",
   "metadata": {},
   "source": [
    "1. Can you clarify what the model used previously when AmericanObsHoursPerDay ≠ 0?\n",
    "2. When AmericanObsHoursPerDay = 0, how does the PDE solver handle time discretization? Could using actual time increase numerical instability in the PDE solver (e.g., irregular grid spacing)?\n",
    "3. Does this change apply only to American (continuously monitored) barriers, or also to European-style (discretely monitored) barriers?\n",
    "4. Does the actual observation hour setting now align with market trading hours across exchanges? How does the model handle different markets (e.g., US vs. Asia)?\n",
    "5. What happens if a product is set with AmericanObsHoursPerDay = 0, but its calendar time to maturity is less than 1 day? Is that handled properly?\n",
    "6. Once americanObsDt is computed, can you explain how it is fed into the PDE grid or ctsBarrierHitPct calculation? Is it treated as the total monitoring time?\n",
    "7. Previously, was a fixed dt used for every barrier monitoring interval? Does the new implementation allow varying dt that reflects actual elapsed time (e.g., 3 days vs. 1 day)?\n",
    "8. Have you compared the new results against analytical barrier models or market prices to confirm that using actual time improves accuracy? If so, please provide us the test. "
   ]
  },
  {
   "cell_type": "markdown",
   "id": "64eb1f25-1cda-478d-b71c-16edd17a8696",
   "metadata": {},
   "source": [
    "## Change 4"
   ]
  },
  {
   "cell_type": "markdown",
   "id": "9df597f7-0a05-488a-94b1-ecba58ac5422",
   "metadata": {},
   "source": []
  },
  {
   "cell_type": "markdown",
   "id": "9cd207b7-ce2b-4403-8a5c-d25ccb75c407",
   "metadata": {},
   "source": []
  },
  {
   "cell_type": "markdown",
   "id": "89f47d2e-e25d-4c97-90fc-cad7e567e7d8",
   "metadata": {},
   "source": [
    "1. Can you confirm the theoretical basis for using the formula:\n",
    "=POWER(1 + linear yield × term, 1 / term) - 1\n",
    "as the flat equivalent compounding yield?\n",
    "\n",
    "📌 Purpose: Ensure MD can justify the transformation from linear to compound terms.\n",
    "\n",
    "2. Does pricing of embedded Bermudan swaption correctly handle accreting notional?\n",
    "3. Is this approach valid only for linearly accreting notional with fixed yield?\n",
    "How does the model behave if:\n",
    "\n",
    "Notional grows non-linearly?\n",
    "\n",
    "Accretion changes mid-life?\n",
    "\n",
    "Call dates are not annual?\n",
    "\n",
    "4. What threshold is used to judge “materiality” in the impact test? For instance, is a PV difference of $251k on $500M trade considered material?"
   ]
  },
  {
   "cell_type": "markdown",
   "id": "6225799f-af66-4168-a6e8-5a5b6a2fd1fa",
   "metadata": {},
   "source": [
    "In the upcoming release, MD will update the model so that when Product.AmericanObsHoursPerDay is set to zero, the PDE pricing method will use the actual time interval to compute the probability of crossing the barrier. For American (continuously monitored) barriers, this parameter determines the number of hours per day during which the barrier is observed (e.g., 7.5 hours per day)."
   ]
  },
  {
   "cell_type": "markdown",
   "id": "3098212d-914b-498c-b779-6329b59a6b84",
   "metadata": {},
   "source": [
    "To verify the impact of the updated parameter, MD used a sample trade in the attached spreadsheet DoubleBarrierVetting.xlsm to demonstrate how the model behaves under different observation settings. Three configurations were tested—24 hours, 24 hours including weekends, and the new \"Actual\" setting—each producing different barrier observation intervals.\n",
    "\n",
    "For each configuration, the corresponding time step used by the PDE engine is shown via debugging screenshots. The observation window from May 30, 2025, to June 2, 2025, spans a weekend. Under the 24-hour setting, the model computes a time step of approximately 1/365 (~0.00274). With the 24-hour plus weekend setting, the time step increases to around 1.4/365 (~0.00384). Under the new \"Actual\" setting, the full 3-day interval is reflected, resulting in a time step of approximately 3/365 (~0.00822).\n",
    "\n",
    "This behavior confirms that the model correctly captures the weekend effect under the new configuration and validates that the implementation aligns with expectations.\n",
    "\n",
    "\n",
    "\n",
    "\n",
    "\n",
    "\n",
    "\n",
    "\n"
   ]
  },
  {
   "cell_type": "code",
   "execution_count": null,
   "id": "520e8bba-3c8f-4ea4-886f-a1d428f6c15c",
   "metadata": {},
   "outputs": [],
   "source": []
  }
 ],
 "metadata": {
  "kernelspec": {
   "display_name": "Python 3 (ipykernel)",
   "language": "python",
   "name": "python3"
  },
  "language_info": {
   "codemirror_mode": {
    "name": "ipython",
    "version": 3
   },
   "file_extension": ".py",
   "mimetype": "text/x-python",
   "name": "python",
   "nbconvert_exporter": "python",
   "pygments_lexer": "ipython3",
   "version": "3.12.7"
  }
 },
 "nbformat": 4,
 "nbformat_minor": 5
}
