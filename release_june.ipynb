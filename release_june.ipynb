{
 "cells": [
  {
   "cell_type": "markdown",
   "id": "b2594640-ffdd-4779-89aa-bd999caf2cf5",
   "metadata": {},
   "source": [
    "## Change 2"
   ]
  },
  {
   "cell_type": "markdown",
   "id": "5d691954-207c-48f1-9276-39d87405d466",
   "metadata": {},
   "source": [
    "1. Can you clarify what the model used previously when AmericanObsHoursPerDay ≠ 0?\n",
    "2. When AmericanObsHoursPerDay = 0, how does the PDE solver handle time discretization? Could using actual time increase numerical instability in the PDE solver (e.g., irregular grid spacing)?\n",
    "3. Does this change apply only to American (continuously monitored) barriers, or also to European-style (discretely monitored) barriers?\n",
    "4. Does the actual observation hour setting now align with market trading hours across exchanges? How does the model handle different markets (e.g., US vs. Asia)?\n",
    "5. What happens if a product is set with AmericanObsHoursPerDay = 0, but its calendar time to maturity is less than 1 day? Is that handled properly?\n",
    "6. Once americanObsDt is computed, can you explain how it is fed into the PDE grid or ctsBarrierHitPct calculation? Is it treated as the total monitoring time?\n",
    "7. Previously, was a fixed dt used for every barrier monitoring interval? Does the new implementation allow varying dt that reflects actual elapsed time (e.g., 3 days vs. 1 day)?\n",
    "8. Have you compared the new results against analytical barrier models or market prices to confirm that using actual time improves accuracy? If so, please provide us the test. "
   ]
  },
  {
   "cell_type": "markdown",
   "id": "64eb1f25-1cda-478d-b71c-16edd17a8696",
   "metadata": {},
   "source": [
    "## Change 4"
   ]
  },
  {
   "cell_type": "markdown",
   "id": "9df597f7-0a05-488a-94b1-ecba58ac5422",
   "metadata": {},
   "source": []
  },
  {
   "cell_type": "markdown",
   "id": "9cd207b7-ce2b-4403-8a5c-d25ccb75c407",
   "metadata": {},
   "source": []
  },
  {
   "cell_type": "markdown",
   "id": "89f47d2e-e25d-4c97-90fc-cad7e567e7d8",
   "metadata": {},
   "source": [
    "1. Can you confirm the theoretical basis for using the formula:\n",
    "=POWER(1 + linear yield × term, 1 / term) - 1\n",
    "as the flat equivalent compounding yield?\n",
    "\n",
    "📌 Purpose: Ensure MD can justify the transformation from linear to compound terms.\n",
    "\n",
    "2. Does pricing of embedded Bermudan swaption correctly handle accreting notional?\n",
    "3. Is this approach valid only for linearly accreting notional with fixed yield?\n",
    "How does the model behave if:\n",
    "\n",
    "Notional grows non-linearly?\n",
    "\n",
    "Accretion changes mid-life?\n",
    "\n",
    "Call dates are not annual?\n",
    "\n",
    "4. What threshold is used to judge “materiality” in the impact test? For instance, is a PV difference of $251k on $500M trade considered material?"
   ]
  },
  {
   "cell_type": "markdown",
   "id": "6225799f-af66-4168-a6e8-5a5b6a2fd1fa",
   "metadata": {},
   "source": [
    "In the upcoming release, MD will update the model so that when Product.AmericanObsHoursPerDay is set to zero, the PDE pricing method will use the actual time interval to compute the probability of crossing the barrier. For American (continuously monitored) barriers, this parameter determines the number of hours per day during which the barrier is observed (e.g., 7.5 hours per day)."
   ]
  },
  {
   "cell_type": "markdown",
   "id": "3098212d-914b-498c-b779-6329b59a6b84",
   "metadata": {},
   "source": [
    "To verify the impact of the updated parameter, MD used a sample trade in the attached spreadsheet DoubleBarrierVetting.xlsm to demonstrate how the model behaves under different observation settings. Three configurations were tested—24 hours, 24 hours including weekends, and the new \"Actual\" setting—each producing different barrier observation intervals.\n",
    "\n",
    "For each configuration, the corresponding time step used by the PDE engine is shown via debugging screenshots. The observation window from May 30, 2025, to June 2, 2025, spans a weekend. Under the 24-hour setting, the model computes a time step of approximately 1/365 (~0.00274). With the 24-hour plus weekend setting, the time step increases to around 1.4/365 (~0.00384). Under the new \"Actual\" setting, the full 3-day interval is reflected, resulting in a time step of approximately 3/365 (~0.00822).\n",
    "\n",
    "This behavior confirms that the model correctly captures the weekend effect under the new configuration and validates that the implementation aligns with expectations.\n",
    "\n",
    "\n",
    "\n",
    "\n",
    "\n",
    "\n",
    "\n",
    "\n"
   ]
  },
  {
   "cell_type": "markdown",
   "id": "75a7aee1-278b-48a5-bdf5-3d87107599f8",
   "metadata": {},
   "source": [
    "MRM asked MD whether using settings like \"24Hr\", \"24HrPlusWeekend\", or the \"Actual\" 3-day interval for AmericanObsHoursPerDay makes sense for an equity underlier, given that equity markets do not trade continuously over 24 hours or during weekends. MRM also questioned whether such settings imply that the underlier is assumed to evolve continuously across non-trading hours and weekends, and requested an example if that were the case.\n",
    "\n",
    "In response, MD explained that this behavior is primarily tied to how implied volatility is calibrated. Specifically, if the total variance is given by \n",
    "𝜎\n",
    "2\n",
    "𝑇\n",
    "σ \n",
    "2\n",
    " T, then the discretized sum \n",
    "∑\n",
    "𝜎\n",
    "2\n",
    "⋅\n",
    "Δ\n",
    "𝑡\n",
    "∑σ \n",
    "2\n",
    " ⋅Δt must yield the same result. In other words, the model adjusts the diffusion by ensuring that \n",
    "𝜎\n",
    "2\n",
    "⋅\n",
    "Δ\n",
    "𝑡\n",
    "σ \n",
    "2\n",
    " ⋅Δt correctly reflects the total variance over the relevant time window, regardless of whether that window includes non-trading periods.\n",
    "\n",
    "\n",
    "\n",
    "\n",
    "\n",
    "\n",
    "\n",
    "\n"
   ]
  },
  {
   "cell_type": "markdown",
   "id": "64ac8068-387d-48e4-bf51-d2d201da0c79",
   "metadata": {},
   "source": [
    "MRM asked MD whether the change applies equally to American (continuously monitored) barriers and European-style (discretely monitored) barriers. MD responded that the change does not apply to European monitoring, as it is based on end-of-day (EOD) fixings and does not require the computation of intraday barrier crossing probabilities."
   ]
  },
  {
   "cell_type": "markdown",
   "id": "f3ab93e1-f6fd-4ce6-98fa-8e779e407a9f",
   "metadata": {},
   "source": [
    "MRM asked MD whether the \"actual\" observation hour setting now aligns with the trading hours of different exchanges, such as those in the US versus Asia, and how the model handles such market-specific differences. MD replied that the setting is not tied to calendar-based trading hours. Instead, it relates to how implied volatility is calibrated—specifically, ensuring that \n",
    "𝜎\n",
    "2\n",
    "⋅\n",
    "Δ\n",
    "𝑡\n",
    "σ \n",
    "2\n",
    " ⋅Δt is consistent with observed option prices. The model does not adjust for specific market hours but rather focuses on maintaining consistency in total variance used for pricing."
   ]
  },
  {
   "cell_type": "markdown",
   "id": "9eb092c6-bbca-4bc4-ba1d-bac75446f85a",
   "metadata": {},
   "source": [
    "MRM asked MD what happens if a product is configured with Product.AmericanObsHoursPerDay = 0, but its calendar time to maturity is less than one day. MD replied that if the question pertains to intraday pricing, it is governed by the DayFracAddToTime parameter. For example, a value of 0.5 would represent pricing halfway through the day. This setting is also treated as an actual time interval in the model."
   ]
  },
  {
   "cell_type": "markdown",
   "id": "ddca723b-624a-4703-8727-9e265a66e31e",
   "metadata": {},
   "source": [
    "MRM queried MD whether americanObsDt is treated as the total monitoring time. MD replied that it is— for example, a value of 6.5 indicates that between two adjacent schedule dates, the barrier crossing is monitored for a total of 6.5 hours."
   ]
  },
  {
   "cell_type": "markdown",
   "id": "d4773b3b-30e6-46bb-aa3a-b5c042349ffd",
   "metadata": {},
   "source": [
    "MRM asked MD what problem the new parameter is intended to solve. MD replied that, similar to a previous explanation, the purpose is to ensure that \n",
    "𝜎\n",
    "2\n",
    "⋅\n",
    "Δ\n",
    "𝑡\n",
    "σ \n",
    "2\n",
    " ⋅Δt remains consistent with observed option quotes. MD also referenced the attached test results, which include impacts on present value, Greeks, and debugging screenshots as supporting evidence."
   ]
  },
  {
   "cell_type": "code",
   "execution_count": null,
   "id": "569e03f0-121b-4835-b21b-e366ad97f986",
   "metadata": {},
   "outputs": [],
   "source": []
  }
 ],
 "metadata": {
  "kernelspec": {
   "display_name": "Python 3 (ipykernel)",
   "language": "python",
   "name": "python3"
  },
  "language_info": {
   "codemirror_mode": {
    "name": "ipython",
    "version": 3
   },
   "file_extension": ".py",
   "mimetype": "text/x-python",
   "name": "python",
   "nbconvert_exporter": "python",
   "pygments_lexer": "ipython3",
   "version": "3.12.7"
  }
 },
 "nbformat": 4,
 "nbformat_minor": 5
}
